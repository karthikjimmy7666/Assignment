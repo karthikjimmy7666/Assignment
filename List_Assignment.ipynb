{
 "cells": [
  {
   "cell_type": "code",
   "execution_count": null,
   "metadata": {
    "id": "gtlAv2oq9yzd"
   },
   "outputs": [],
   "source": [
    "#Write a Python program to find the sum of all elements in a list using loop.\n",
    "#Input:- [10,20,30,40]\n",
    "#Output:- 100\n",
    "\n",
    "\n"
   ]
  },
  {
   "cell_type": "code",
   "execution_count": 9,
   "metadata": {},
   "outputs": [
    {
     "name": "stdout",
     "output_type": "stream",
     "text": [
      "100\n"
     ]
    }
   ],
   "source": [
    "Input = [10,20,30,40]\n",
    "a =0\n",
    "for i in range(0,len(Input)):\n",
    "    a+= Input[i]\n",
    "print(a)    "
   ]
  },
  {
   "cell_type": "code",
   "execution_count": null,
   "metadata": {
    "id": "gTbA8psa93Y_"
   },
   "outputs": [],
   "source": [
    "#Write a Python program to find the multiplication of all elements in a list using loop.\n",
    "#Input:- [10,20,30,40]\n",
    "#Output:- 240000\n",
    "\n",
    "\n"
   ]
  },
  {
   "cell_type": "code",
   "execution_count": 11,
   "metadata": {},
   "outputs": [
    {
     "name": "stdout",
     "output_type": "stream",
     "text": [
      "240000\n"
     ]
    }
   ],
   "source": [
    "Input = [10,20,30,40]\n",
    "a =1\n",
    "for i in range(0,len(Input)):\n",
    "    a*= Input[i]\n",
    "print(a)"
   ]
  },
  {
   "cell_type": "code",
   "execution_count": null,
   "metadata": {
    "id": "XBCrEtLN94Lj"
   },
   "outputs": [],
   "source": [
    "#Write a Python program to find the largest number from a list using loop.\n",
    "#Input:- [10,100,2321, 1,200,2]\n",
    "#Output:- 2321\n",
    "\n",
    "\n"
   ]
  },
  {
   "cell_type": "code",
   "execution_count": 12,
   "metadata": {},
   "outputs": [
    {
     "name": "stdout",
     "output_type": "stream",
     "text": [
      "2321\n"
     ]
    }
   ],
   "source": [
    "Input = [10,100,2321, 1,200,2]\n",
    "a =0\n",
    "for i in range(0,len(Input)):\n",
    "    if Input[i] > a:\n",
    "        a = Input[i]\n",
    "print(a)"
   ]
  },
  {
   "cell_type": "code",
   "execution_count": null,
   "metadata": {
    "id": "l3paUtbH94Vw"
   },
   "outputs": [],
   "source": [
    "#Write a Python program to find the smallest number from a list using loop.\n",
    "#Input:- [10,100,2321, 1,200,2]\n",
    "#Output:- 1\n",
    "\n",
    "\n"
   ]
  },
  {
   "cell_type": "code",
   "execution_count": 15,
   "metadata": {},
   "outputs": [
    {
     "name": "stdout",
     "output_type": "stream",
     "text": [
      "1\n"
     ]
    }
   ],
   "source": [
    "Input = [10,100,2321, 1,200,2]\n",
    "a =0\n",
    "for i in range(0,len(Input)-1):\n",
    "    if Input[i] < Input[i+1]:\n",
    "        a = Input[i]\n",
    "print(a)"
   ]
  },
  {
   "cell_type": "code",
   "execution_count": null,
   "metadata": {
    "id": "JTVgy5VD94cE"
   },
   "outputs": [],
   "source": [
    "#Write a Python program to count the number of strings having length more than 2 and are palindrome in a list using loop.\n",
    "#Input:- ['ab', 'abc', 'aba', 'xyz', '1991']\n",
    "#Output:- 2"
   ]
  },
  {
   "cell_type": "code",
   "execution_count": 8,
   "metadata": {},
   "outputs": [
    {
     "name": "stdout",
     "output_type": "stream",
     "text": [
      "2\n"
     ]
    }
   ],
   "source": [
    "Input = ['ab', 'abc', 'aba', 'xyz', '1991']\n",
    "a =0\n",
    "for i in range(0,len(Input)):\n",
    "    if len(Input[i]) > 2: \n",
    "        if Input[i] == Input[i][::-1]: a +=1\n",
    "print(a)"
   ]
  },
  {
   "cell_type": "code",
   "execution_count": null,
   "metadata": {
    "id": "xs-ZGJbJ94gr"
   },
   "outputs": [],
   "source": [
    "#Write a Python program to sort a list in ascending order using loop.\n",
    "#Input:- [100,10,1,298,65,483,49876,2,80,9,9213]\n",
    "#Output:- [1,2,9,10,65,80,100,298,483,9213,49876]\n",
    "\n",
    "\n"
   ]
  },
  {
   "cell_type": "code",
   "execution_count": null,
   "metadata": {},
   "outputs": [],
   "source": [
    "[100,10,1,298,65,483,49876,2,80,9,9213]\n",
    "[10,1,100,65,298,483,2,80,9,9213,49876]\n",
    "[1,10,65,100,298,2,80,9,483,9213,49876]\n",
    "[1,10,65,100,2,80,9,298,483,9213,49876]\n",
    "[1,20,65,2,80,9,100,298,483,9213,49876]\n",
    "[1,20,2,65,9,80,100,298,483,9213,49876]\n",
    "[1,2,20,9,65,80,100,298,483,9213,49876]\n",
    "[1,2,9,20,65,80,100,298,483,9213,49876]"
   ]
  },
  {
   "cell_type": "code",
   "execution_count": 11,
   "metadata": {},
   "outputs": [
    {
     "name": "stdout",
     "output_type": "stream",
     "text": [
      "[1, 2, 9, 10, 65, 80, 100, 298, 483, 9213, 49876]\n"
     ]
    }
   ],
   "source": [
    "Input = [100,10,1,298,65,483,49876,2,80,9,9213]\n",
    "for i in range(0,len(Input)-1):\n",
    "    for j in range(0,len(Input)-1):\n",
    "        t = 0\n",
    "        if(Input[j] > Input[j+1]):\n",
    "            t = Input[j]\n",
    "            Input[j] = Input[j+1]\n",
    "            Input[j+1] = t\n",
    "print(Input)            \n",
    "                "
   ]
  },
  {
   "cell_type": "code",
   "execution_count": 15,
   "metadata": {},
   "outputs": [
    {
     "name": "stdout",
     "output_type": "stream",
     "text": [
      "[1, 2, 9, 10, 65, 80, 100, 298, 483, 9213, 49876]\n"
     ]
    }
   ],
   "source": [
    "Input = [100,10,1,298,65,483,49876,2,80,9,9213]\n",
    "Input.sort()\n",
    "print(Input)"
   ]
  },
  {
   "cell_type": "code",
   "execution_count": null,
   "metadata": {
    "id": "VhKQJizZ94kg"
   },
   "outputs": [],
   "source": [
    "#Write a Python program to get a sorted list in increasing order of last element in each tuple in a given list using loop.\n",
    "#Input:- [(5,4),(9,1),(2,3),(5,9),(7,6),(5,5)]\n",
    "#output:- [(9,1),(2,3),(5,4),(5,5),(7,6),(5,9)]\n",
    "\n",
    "\n"
   ]
  },
  {
   "cell_type": "code",
   "execution_count": 18,
   "metadata": {},
   "outputs": [
    {
     "name": "stdout",
     "output_type": "stream",
     "text": [
      "[(9, 1), (2, 3), (5, 4), (5, 5), (7, 6), (5, 9)]\n"
     ]
    }
   ],
   "source": [
    "Input = [(5,4),(9,1),(2,3),(5,9),(7,6),(5,5)]\n",
    "for i in range(0,len(Input)-1):\n",
    "    for j in range(0,len(Input)-1):\n",
    "        t = 0\n",
    "        if(Input[j][1] > Input[j+1][1]):\n",
    "            t = Input[j]\n",
    "            Input[j] = Input[j+1]\n",
    "            Input[j+1] = t\n",
    "print(Input)            \n",
    "                "
   ]
  },
  {
   "cell_type": "code",
   "execution_count": null,
   "metadata": {
    "id": "YJrCLYp694n_"
   },
   "outputs": [],
   "source": [
    "#Write a Python program to remove fuplicate element from a list using loop.\n",
    "#Input:- [10,1,11,1,29,876,768,10,11,1,92,29,876]\n",
    "#Output:- [10,1,11,29,876,768,92]\n",
    "\n",
    "\n"
   ]
  },
  {
   "cell_type": "code",
   "execution_count": 21,
   "metadata": {},
   "outputs": [
    {
     "name": "stdout",
     "output_type": "stream",
     "text": [
      "[10, 1, 11, 29, 876, 768, 92]\n"
     ]
    }
   ],
   "source": [
    "Input = [10,1,11,1,29,876,768,10,11,1,92,29,876]\n",
    "list_to_be_removed = []\n",
    "for i in range(0,len(Input)-1):\n",
    "    if(Input[i] not in list_to_be_removed):\n",
    "        list_to_be_removed.append(Input[i])\n",
    "print(list_to_be_removed)        "
   ]
  },
  {
   "cell_type": "code",
   "execution_count": 23,
   "metadata": {},
   "outputs": [
    {
     "name": "stdout",
     "output_type": "stream",
     "text": [
      "{768, 1, 10, 11, 876, 92, 29}\n"
     ]
    }
   ],
   "source": [
    "Input = [10,1,11,1,29,876,768,10,11,1,92,29,876]\n",
    "print(set(Input))\n"
   ]
  },
  {
   "cell_type": "code",
   "execution_count": null,
   "metadata": {
    "id": "koYe4YCu94rh"
   },
   "outputs": [],
   "source": [
    "#Write a Python program to check a list is empty or not?\n",
    "#Input:- []\n",
    "#Output:- List is empty\n",
    "#Input:- [10,20,30]\n",
    "#Output:- List is not empty\n",
    "\n",
    "\n"
   ]
  },
  {
   "cell_type": "code",
   "execution_count": 28,
   "metadata": {},
   "outputs": [],
   "source": [
    "def is_list_empty(Input):\n",
    "    if(len(Input) == 0): return ('list is empty')\n",
    "    else: return ('List is not empty')"
   ]
  },
  {
   "cell_type": "code",
   "execution_count": 29,
   "metadata": {},
   "outputs": [
    {
     "name": "stdout",
     "output_type": "stream",
     "text": [
      "List is not empty\n"
     ]
    }
   ],
   "source": [
    "s  = is_list_empty([10,20,30])\n",
    "print(s)"
   ]
  },
  {
   "cell_type": "code",
   "execution_count": 30,
   "metadata": {},
   "outputs": [
    {
     "name": "stdout",
     "output_type": "stream",
     "text": [
      "list is empty\n"
     ]
    }
   ],
   "source": [
    "s  = is_list_empty([])\n",
    "print(s)"
   ]
  },
  {
   "cell_type": "code",
   "execution_count": null,
   "metadata": {
    "id": "mES1WANa94u5"
   },
   "outputs": [],
   "source": [
    "#Write a Python program to copy a list using loop.\n",
    "#inp_lst = [10,10.20,10+20j, 'Python', [10,20], (10,20)]\n",
    "#out_lst = [10,10.20,10+20j, 'Python', [10,20], (10,20)]\n",
    "\n",
    "\n"
   ]
  },
  {
   "cell_type": "code",
   "execution_count": 34,
   "metadata": {},
   "outputs": [
    {
     "name": "stdout",
     "output_type": "stream",
     "text": [
      "[10, 10.2, (10+20j), 'Python', [10, 20], (10, 20)]\n",
      "[10, 10.2, (10+20j), 'Python', [10, 20], (10, 20)]\n",
      "[100, 10.2, (10+20j), 'Python', [10, 20], (10, 20)]\n"
     ]
    }
   ],
   "source": [
    "inp_lst = [10,10.20,10+20j, 'Python', [10,20], (10,20)]\n",
    "out_lst = inp_lst.copy()\n",
    "print(out_lst)\n",
    "\n",
    "out_lst[0] =100\n",
    "print(inp_lst)\n",
    "print(out_lst)"
   ]
  },
  {
   "cell_type": "code",
   "execution_count": 35,
   "metadata": {},
   "outputs": [
    {
     "name": "stdout",
     "output_type": "stream",
     "text": [
      "[10, 10.2, (10+20j), 'Python', [10, 20], (10, 20)]\n",
      "[100, 10.2, (10+20j), 'Python', [10, 20], (10, 20)]\n",
      "[100, 10.2, (10+20j), 'Python', [10, 20], (10, 20)]\n"
     ]
    }
   ],
   "source": [
    "inp_lst = [10,10.20,10+20j, 'Python', [10,20], (10,20)]\n",
    "out_lst = inp_lst\n",
    "print(out_lst)\n",
    "\n",
    "out_lst[0] =100\n",
    "print(inp_lst)\n",
    "print(out_lst)"
   ]
  },
  {
   "cell_type": "code",
   "execution_count": 36,
   "metadata": {},
   "outputs": [
    {
     "name": "stdout",
     "output_type": "stream",
     "text": [
      "[10, 10.2, (10+20j), 'Python', [10, 20], (10, 20)]\n",
      "[10, 10.2, (10+20j), 'Python', [10, 20], (10, 20)]\n",
      "[100, 10.2, (10+20j), 'Python', [10, 20], (10, 20)]\n"
     ]
    }
   ],
   "source": [
    "inp_lst = [10,10.20,10+20j, 'Python', [10,20], (10,20)]\n",
    "out_lst = inp_lst[:]\n",
    "print(out_lst)\n",
    "\n",
    "out_lst[0] =100\n",
    "print(inp_lst)\n",
    "print(out_lst)"
   ]
  },
  {
   "cell_type": "code",
   "execution_count": 37,
   "metadata": {},
   "outputs": [
    {
     "name": "stdout",
     "output_type": "stream",
     "text": [
      "[10, 10.2, (10+20j), 'Python', [10, 20]]\n",
      "[10, 10.2, (10+20j), 'Python', [10, 20], (10, 20)]\n",
      "[100, 10.2, (10+20j), 'Python', [10, 20]]\n"
     ]
    }
   ],
   "source": [
    "inp_lst = [10,10.20,10+20j, 'Python', [10,20], (10,20)]\n",
    "out_lst = []\n",
    "for i in range(0,len(inp_lst)-1):\n",
    "    out_lst.append(inp_lst[i])\n",
    "print(out_lst)\n",
    "\n",
    "out_lst[0] =100\n",
    "print(inp_lst)\n",
    "print(out_lst)   \n"
   ]
  },
  {
   "cell_type": "code",
   "execution_count": null,
   "metadata": {
    "id": "CpBh31WO94yi"
   },
   "outputs": [],
   "source": [
    "#Write a Python program to find the list of words that are longer than or equal to 4 from a given string.\n",
    "#Input:- 'How much wood would a woodchuck chuck if a woodchuck could chuck wood'\n",
    "#Output:- ['much', 'wood', 'would', 'woodchuck', 'chuck', 'could']\n",
    "#Note:- Duplicate should be avoided.\n",
    "\n",
    "\n"
   ]
  },
  {
   "cell_type": "code",
   "execution_count": 42,
   "metadata": {},
   "outputs": [
    {
     "name": "stdout",
     "output_type": "stream",
     "text": [
      "['much', 'wood', 'would', 'woodchuck', 'chuck', 'could']\n"
     ]
    }
   ],
   "source": [
    "Input = 'How much wood would a woodchuck chuck if a woodchuck could chuck wood'\n",
    "text = Input.split(' ')\n",
    "Output = []\n",
    "\n",
    "for i in range(0,len(text)-1):\n",
    "    if(len(text[i])>=4):\n",
    "        if(text[i] not in Output):\n",
    "            Output.append(text[i])\n",
    "print(Output)        \n"
   ]
  },
  {
   "cell_type": "code",
   "execution_count": null,
   "metadata": {
    "id": "YVfj0fgZ9416"
   },
   "outputs": [],
   "source": [
    "#Write a Python program which takes two list as input and returns True if they have at least 3 common elements.\n",
    "#inp_lst1 = [10,20,'Python', 10.20, 10+20j, [10,20,30], (10,20,30)]\n",
    "#inp_lst2 = [(10,20,30),1,20+3j,100.2, 10+20j, [10,20,30],'Python']\n",
    "#Output:- True\n",
    "\n",
    "\n"
   ]
  },
  {
   "cell_type": "code",
   "execution_count": 10,
   "metadata": {},
   "outputs": [
    {
     "name": "stdout",
     "output_type": "stream",
     "text": [
      "True\n"
     ]
    }
   ],
   "source": [
    "inp_lst1 = [10,20,'Python', 10.20, 10+20j, [10,20,30], (10,20,30)]\n",
    "inp_lst2 = [(10,20,30),1,20+3j,100.2, 10+20j, [10,20,30],'Python']\n",
    "counter = 0\n",
    "for i in range(0,len(inp_lst1)-1):\n",
    "    for j in range(0,len(inp_lst2)):\n",
    "        if(inp_lst1[i] == inp_lst2[j]):\n",
    "            counter= counter+1\n",
    "         \n",
    "if counter >=3:\n",
    "    print(True)"
   ]
  },
  {
   "cell_type": "code",
   "execution_count": null,
   "metadata": {
    "id": "7vwc3pjR945O"
   },
   "outputs": [],
   "source": [
    "#Write a Python program to create a 4X4 2D matrix with below elements using loop and list comprehension both.\n",
    "#Output:- [[0,0,0,0],[0,1,2,3],[0,2,4,6],[0,3,6,9]]\n"
   ]
  },
  {
   "cell_type": "code",
   "execution_count": 18,
   "metadata": {},
   "outputs": [
    {
     "name": "stdout",
     "output_type": "stream",
     "text": [
      "[[0, 0, 0, 0], [0, 1, 2, 3], [0, 2, 4, 6], [0, 3, 6, 9]]\n"
     ]
    }
   ],
   "source": [
    "twod_list = []\n",
    "\n",
    "for i in range(4):\n",
    "    row = []\n",
    "    for j in range(4):\n",
    "        row.append(i*j)\n",
    "    twod_list.append(row)\n",
    "print(twod_list)"
   ]
  },
  {
   "cell_type": "code",
   "execution_count": 21,
   "metadata": {},
   "outputs": [
    {
     "name": "stdout",
     "output_type": "stream",
     "text": [
      "[[0, 0, 0, 0], [0, 1, 2, 3], [0, 2, 4, 6], [0, 3, 6, 9]]\n"
     ]
    }
   ],
   "source": [
    "twod_list = [[i*j for i in range(4)]for j in range(4)]\n",
    "print(twod_list)"
   ]
  },
  {
   "cell_type": "code",
   "execution_count": null,
   "metadata": {
    "id": "Pxafor84948b"
   },
   "outputs": [],
   "source": [
    "#Write a Python program to create a 3X4X6 3D matrix wiith below elements using loop\n",
    "#Output:- \n",
    "# [\n",
    "#     [[0,0,0,0,0,0],[0,0,0,0,0,0],[0,0,0,0,0,0],[0,0,0,0,0,0]],\n",
    "#     [[0,0,0,0,0,0],[1,1,1,1,1,1],[2,2,2,2,2,2],[3,3,3,3,3,3]],\n",
    "#     [[0,0,0,0,0,0],[2,2,2,2,2,2],[4,4,4,4,4,4],[6,6,6,6,6,6]]\n",
    "# ]\n",
    "\n",
    "\n"
   ]
  },
  {
   "cell_type": "code",
   "execution_count": 41,
   "metadata": {},
   "outputs": [
    {
     "name": "stdout",
     "output_type": "stream",
     "text": [
      "[[[0, 0, 0, 0, 0, 0], [0, 0, 0, 0, 0, 0], [0, 0, 0, 0, 0, 0], [0, 0, 0, 0, 0, 0]], [[0, 0, 0, 0, 0, 0], [1, 1, 1, 1, 1, 1], [2, 2, 2, 2, 2, 2], [3, 3, 3, 3, 3, 3]], [[0, 0, 0, 0, 0, 0], [2, 2, 2, 2, 2, 2], [4, 4, 4, 4, 4, 4], [6, 6, 6, 6, 6, 6]]]\n"
     ]
    }
   ],
   "source": [
    "threed_matrix = [[[i*j for k in range(6)]for i in range(4)]for j in range(3)]\n",
    "print(threed_matrix)"
   ]
  },
  {
   "cell_type": "code",
   "execution_count": null,
   "metadata": {
    "id": "lYNv8gk794_p"
   },
   "outputs": [],
   "source": [
    "#Write a Python program which takes a list of numbers as input and prints a new list after removing even numbers from it.\n",
    "#Input:- [10,21,22,98,87,45,33,1,2,100]\n",
    "#Output:- [21,87,45,33,1]\n",
    "\n",
    "\n"
   ]
  },
  {
   "cell_type": "code",
   "execution_count": 51,
   "metadata": {},
   "outputs": [
    {
     "name": "stdout",
     "output_type": "stream",
     "text": [
      "[21, 87, 45, 33, 1]\n"
     ]
    }
   ],
   "source": [
    "Input = [10,21,22,98,87,45,33,1,2,100]\n",
    "\n",
    "output = [i for i in Input if i%2==1]\n",
    "print(output)"
   ]
  },
  {
   "cell_type": "code",
   "execution_count": null,
   "metadata": {
    "id": "3BaCb-rB95B7"
   },
   "outputs": [],
   "source": [
    "#Write a Python program which takes a list from the user and prints it after reshuffling the elements of the list.\n",
    "#Input:- [10,21,22,98,87,45,33,1,2,100]\n",
    "#Output:- [1,87,21,10,33,2,100,45,98,22] (It may be any randon list but with same elements)\n",
    "\n",
    "\n"
   ]
  },
  {
   "cell_type": "code",
   "execution_count": 52,
   "metadata": {},
   "outputs": [
    {
     "name": "stdout",
     "output_type": "stream",
     "text": [
      "[98, 21, 45, 100, 10, 1, 22, 87, 33, 2]\n"
     ]
    }
   ],
   "source": [
    "import random\n",
    "Input = [10,21,22,98,87,45,33,1,2,100]\n",
    "random.shuffle(Input)\n",
    "print(Input)"
   ]
  },
  {
   "cell_type": "code",
   "execution_count": null,
   "metadata": {},
   "outputs": [],
   "source": []
  }
 ],
 "metadata": {
  "colab": {
   "name": "List_Assignment.ipynb",
   "provenance": []
  },
  "kernelspec": {
   "display_name": "Python 3 (ipykernel)",
   "language": "python",
   "name": "python3"
  },
  "language_info": {
   "codemirror_mode": {
    "name": "ipython",
    "version": 3
   },
   "file_extension": ".py",
   "mimetype": "text/x-python",
   "name": "python",
   "nbconvert_exporter": "python",
   "pygments_lexer": "ipython3",
   "version": "3.9.7"
  }
 },
 "nbformat": 4,
 "nbformat_minor": 1
}
